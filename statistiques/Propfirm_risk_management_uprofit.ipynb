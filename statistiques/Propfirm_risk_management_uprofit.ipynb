{
  "nbformat": 4,
  "nbformat_minor": 0,
  "metadata": {
    "colab": {
      "provenance": [],
      "authorship_tag": "ABX9TyM9UsU0Cb32+OY12+Bal0BA",
      "include_colab_link": true
    },
    "kernelspec": {
      "name": "python3",
      "display_name": "Python 3"
    },
    "language_info": {
      "name": "python"
    }
  },
  "cells": [
    {
      "cell_type": "markdown",
      "metadata": {
        "id": "view-in-github",
        "colab_type": "text"
      },
      "source": [
        "<a href=\"https://colab.research.google.com/github/maximillian42/FootballDB_scrapping/blob/master/statistiques/Propfirm_risk_management_uprofit.ipynb\" target=\"_parent\"><img src=\"https://colab.research.google.com/assets/colab-badge.svg\" alt=\"Open In Colab\"/></a>"
      ]
    },
    {
      "cell_type": "markdown",
      "source": [
        "# Risk management UPROFIT\n",
        "\n",
        "Pour déterminer le nombre maximum de contrats que vous pouvez gérer sur l'E-mini S&P 500 avec un cours actuel de 4432 et un risque maximal de `100$` par trade sur un capital de `50 000$` , nous allons effectuer les calculs suivants :\n",
        "\n",
        "## Calcul du risque par contrat :\n",
        "\n",
        "Risque par contrat = Montant maximal de risque / (Valeur du tick * Nombre de ticks de stop-loss)\n",
        "\n",
        "Dans votre cas, le montant maximal de risque est de `100 $`, et la valeur du tick sur l'E-mini S&P 500 est généralement de 0,25 point, ce qui équivaut à `12,50 $` par contrat (`0,25 * 50 $`, où chaque point vaut `50 $v sur l'E-mini S&P 500).\n",
        "\n",
        "Supposons que vous définissiez un stop-loss à 10 points :\n",
        "\n",
        "Risque par contrat = `100 $ / (12,50 $ * 10) = 0,8` contrat\n",
        "\n",
        "## Calcul du nombre maximum de contrats :\n",
        "\n",
        "Nombre maximum de contrats = Capital total / (Valeur du contrat * Prix actuel * Risque par contrat)\n",
        "\n",
        "Dans votre cas, le capital total est de `50 000 $`, la valeur du contrat de l'E-mini S&P 500 est de `50 $` par point, et le prix actuel est de 4432 points :\n",
        "\n",
        "Nombre maximum de contrats = `50 000 $ / (50 $ * 4432 * 0,8) = 2,83` contrats\n",
        "\n",
        "Arrondi à deux décimales, vous pouvez gérer jusqu'à environ 2,83 contrats.\n",
        "\n",
        "Ainsi, avec un cours actuel de 4432 sur l'E-mini S&P 500, vous pouvez gérer jusqu'à environ 2,83 contrats pour respecter votre limite de risque de `100 $` par trade avec un capital de `50 000 $`.\n",
        "\n",
        "Veuillez noter que ces calculs sont basés sur les informations et hypothèses fournies, et il est important de s'assurer de la précision des données en temps réel et d'adapter votre gestion des risques en conséquence."
      ],
      "metadata": {
        "id": "LMTJMbEKkixj"
      }
    },
    {
      "cell_type": "markdown",
      "source": [
        "Sources :\n",
        "\n",
        "- https://uprofit.com/help/markets-schedules-6621216146452\n",
        "- https://uprofit.com/our-programs\n",
        "- https://www.cmegroup.com/markets/equities/sp/e-mini-sandp500.contractSpecs.html\n",
        "\n",
        "- https://www.smbtraining.com/blog/what-is-scalping-in-trading?inf_contact_key=b72500b142e4e3b21870553bb73870ff1b0a3f0fd3ee5d9b43fb34c6613498d7"
      ],
      "metadata": {
        "id": "acK6LWjLl_73"
      }
    },
    {
      "cell_type": "code",
      "source": [
        "contract_unit = 25000\n",
        "min_price_fluctuation_pounds = 0.0005\n",
        "min_price_fluctuation_dollar = 12.50\n",
        "\n",
        "uprofit_capital = 50000\n",
        "uprofit_max_contract = 6\n",
        "uprofit_daily_loss_limit = 1100\n",
        "uprofit_pro_drawdown_eod = 2000\n"
      ],
      "metadata": {
        "id": "SAUTS_2ggN7Z"
      },
      "execution_count": 14,
      "outputs": []
    },
    {
      "cell_type": "code",
      "source": [
        "print(\"Min Price Fluctuation in Dollar : \"+str(contract_unit * min_price_fluctuation_pounds)+\"$\")"
      ],
      "metadata": {
        "colab": {
          "base_uri": "https://localhost:8080/"
        },
        "id": "NgGQsOAygTC8",
        "outputId": "28006f08-2971-47be-ad56-818c6da169b2"
      },
      "execution_count": 10,
      "outputs": [
        {
          "output_type": "stream",
          "name": "stdout",
          "text": [
            "Min Price Fluctuation in Dollar : 12.5$\n"
          ]
        }
      ]
    },
    {
      "cell_type": "code",
      "source": [
        "print(\"Uprofit Risk Management\")\n",
        "print((uprofit_capital / uprofit_daily_loss_limit) / 100)"
      ],
      "metadata": {
        "colab": {
          "base_uri": "https://localhost:8080/"
        },
        "id": "mSnpQs2wgWq0",
        "outputId": "a1a0a713-f1bf-4db4-9689-b6aa8ab34097"
      },
      "execution_count": 17,
      "outputs": [
        {
          "output_type": "stream",
          "name": "stdout",
          "text": [
            "Uprofit Risk Management\n",
            "0.45454545454545453\n"
          ]
        }
      ]
    },
    {
      "cell_type": "code",
      "source": [],
      "metadata": {
        "id": "1ZYFUyLihTLc"
      },
      "execution_count": null,
      "outputs": []
    }
  ]
}